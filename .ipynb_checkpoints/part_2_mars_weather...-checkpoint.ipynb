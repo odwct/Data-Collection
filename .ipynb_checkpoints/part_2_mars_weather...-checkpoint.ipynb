{
 "cells": [
  {
   "cell_type": "markdown",
   "id": "fa0f4edc",
   "metadata": {},
   "source": [
    "<h1 style = \"font-family:'Bernard MT Condensed';font-size:3rem;color:darkred;\">Module 11. Data Collection</h1>"
   ]
  },
  {
   "cell_type": "markdown",
   "id": "cf58f14a",
   "metadata": {},
   "source": [
    "<h2 style = \"font-family:'Tw Cen MT';font-size:2.5rem;\">Deliverable 2: Scrape and Analyze Mars Weather Data</h2>"
   ]
  },
  {
   "cell_type": "code",
   "execution_count": 1,
   "id": "b682a3e8",
   "metadata": {},
   "outputs": [],
   "source": [
    "# Import relevant libraries\n",
    "from splinter import Browser\n",
    "from bs4 import BeautifulSoup as soup\n",
    "import matplotlib.pyplot as plt\n",
    "import pandas as pd\n",
    "import warnings\n",
    "warnings.filterwarnings('ignore')"
   ]
  },
  {
   "cell_type": "code",
   "execution_count": 2,
   "id": "44cef689",
   "metadata": {},
   "outputs": [
    {
     "name": "stderr",
     "output_type": "stream",
     "text": [
      "[WDM] - Downloading: 100%|████████████████████████████████████████████████████████| 6.81M/6.81M [00:00<00:00, 19.4MB/s]\n"
     ]
    }
   ],
   "source": [
    "# Set up Splinter\n",
    "from webdriver_manager.chrome import ChromeDriverManager\n",
    "executable_path = {'executable_path': ChromeDriverManager().install()}\n",
    "\n",
    "# Launch the browser\n",
    "browser = Browser('chrome', **executable_path, headless=False)"
   ]
  },
  {
   "cell_type": "markdown",
   "id": "276227bd",
   "metadata": {},
   "source": [
    "### Step 1: Visit the Website\n",
    "Use automated browsing to visit the [Mars Temperature Data Site](https://static.bc-edx.com/data/web/mars_facts/temperature.html). Inspect the page to identify which elements to scrape.\n",
    "\n",
    "   > **Hint** To identify which elements to scrape, you might want to inspect the page by using Chrome DevTools to discover whether the table contains usable classes."
   ]
  },
  {
   "cell_type": "code",
   "execution_count": 3,
   "id": "66a4e28f",
   "metadata": {},
   "outputs": [],
   "source": [
    "# Visit the Mars news site\n",
    "url = 'https://static.bc-edx.com/data/web/mars_facts/temperature.html'\n",
    "browser.visit(url)"
   ]
  },
  {
   "cell_type": "markdown",
   "id": "da2fe7a8",
   "metadata": {},
   "source": [
    "### Step 2: Scrape the Table\n",
    "\n",
    "Create a Beautiful Soup object and use it to scrape the data in the HTML table.\n",
    "\n",
    "Note that this can also be achieved by using the Pandas `read_html` function. However, use Beautiful Soup here to continue sharpening your web scraping skills."
   ]
  },
  {
   "cell_type": "code",
   "execution_count": 4,
   "id": "b0a93c69",
   "metadata": {},
   "outputs": [],
   "source": [
    "# Create a Beautiful Soup object\n",
    "html = browser.html\n",
    "html_soup = soup(html, 'html.parser')"
   ]
  },
  {
   "cell_type": "code",
   "execution_count": 5,
   "id": "e6a36d53",
   "metadata": {},
   "outputs": [],
   "source": [
    "# Extract all rows of data\n",
    "table = html_soup.find('table', class_='table')"
   ]
  },
  {
   "cell_type": "markdown",
   "id": "7ee049e0",
   "metadata": {},
   "source": [
    "### Step 3: Store the Data\n",
    "\n",
    "Assemble the scraped data into a Pandas DataFrame. The columns should have the same headings as the table on the website. Here’s an explanation of the column headings:\n",
    "\n",
    "* `id`: the identification number of a single transmission from the Curiosity rover\n",
    "* `terrestrial_date`: the date on Earth\n",
    "* `sol`: the number of elapsed sols (Martian days) since Curiosity landed on Mars\n",
    "* `ls`: the solar longitude\n",
    "* `month`: the Martian month\n",
    "* `min_temp`: the minimum temperature, in Celsius, of a single Martian day (sol)\n",
    "* `pressure`: The atmospheric pressure at Curiosity's location"
   ]
  },
  {
   "cell_type": "code",
   "execution_count": 6,
   "id": "1d380620",
   "metadata": {},
   "outputs": [],
   "source": [
    "row = table.find_all('tr')\n",
    "\n",
    "# Create an empty list\n",
    "mars_data = []\n",
    "\n",
    "# Loop through the scraped data to create a list of rows\n",
    "for row in row:\n",
    "    heading = row.find_all('th')\n",
    "    data = row.find_all('td')\n",
    "\n",
    "    # Extract the text from each cell in the row\n",
    "    heading_data = [cell.text for cell in heading]\n",
    "    row_data = [cell.text for cell in data]\n",
    "\n",
    "    # Append the row data to the mars_data list\n",
    "    mars_data.append(row_data)"
   ]
  },
  {
   "cell_type": "code",
   "execution_count": 7,
   "id": "16e8263f",
   "metadata": {},
   "outputs": [],
   "source": [
    "# Create a Pandas DataFrame by using the list of rows and a list of the column names\n",
    "mars_df = ['id', 'terrestrial_date', 'sol', 'ls', 'month', 'min_temp', 'pressure']\n",
    "df = pd.DataFrame(mars_data, columns=mars_df)"
   ]
  },
  {
   "cell_type": "code",
   "execution_count": 8,
   "id": "88f95b90",
   "metadata": {},
   "outputs": [
    {
     "data": {
      "text/html": [
       "<div>\n",
       "<style scoped>\n",
       "    .dataframe tbody tr th:only-of-type {\n",
       "        vertical-align: middle;\n",
       "    }\n",
       "\n",
       "    .dataframe tbody tr th {\n",
       "        vertical-align: top;\n",
       "    }\n",
       "\n",
       "    .dataframe thead th {\n",
       "        text-align: right;\n",
       "    }\n",
       "</style>\n",
       "<table border=\"1\" class=\"dataframe\">\n",
       "  <thead>\n",
       "    <tr style=\"text-align: right;\">\n",
       "      <th></th>\n",
       "      <th>id</th>\n",
       "      <th>terrestrial_date</th>\n",
       "      <th>sol</th>\n",
       "      <th>ls</th>\n",
       "      <th>month</th>\n",
       "      <th>min_temp</th>\n",
       "      <th>pressure</th>\n",
       "    </tr>\n",
       "  </thead>\n",
       "  <tbody>\n",
       "    <tr>\n",
       "      <th>1</th>\n",
       "      <td>2</td>\n",
       "      <td>2012-08-16</td>\n",
       "      <td>10</td>\n",
       "      <td>155</td>\n",
       "      <td>6</td>\n",
       "      <td>-75.0</td>\n",
       "      <td>739.0</td>\n",
       "    </tr>\n",
       "    <tr>\n",
       "      <th>2</th>\n",
       "      <td>13</td>\n",
       "      <td>2012-08-17</td>\n",
       "      <td>11</td>\n",
       "      <td>156</td>\n",
       "      <td>6</td>\n",
       "      <td>-76.0</td>\n",
       "      <td>740.0</td>\n",
       "    </tr>\n",
       "    <tr>\n",
       "      <th>3</th>\n",
       "      <td>24</td>\n",
       "      <td>2012-08-18</td>\n",
       "      <td>12</td>\n",
       "      <td>156</td>\n",
       "      <td>6</td>\n",
       "      <td>-76.0</td>\n",
       "      <td>741.0</td>\n",
       "    </tr>\n",
       "    <tr>\n",
       "      <th>4</th>\n",
       "      <td>35</td>\n",
       "      <td>2012-08-19</td>\n",
       "      <td>13</td>\n",
       "      <td>157</td>\n",
       "      <td>6</td>\n",
       "      <td>-74.0</td>\n",
       "      <td>732.0</td>\n",
       "    </tr>\n",
       "    <tr>\n",
       "      <th>5</th>\n",
       "      <td>46</td>\n",
       "      <td>2012-08-20</td>\n",
       "      <td>14</td>\n",
       "      <td>157</td>\n",
       "      <td>6</td>\n",
       "      <td>-74.0</td>\n",
       "      <td>740.0</td>\n",
       "    </tr>\n",
       "  </tbody>\n",
       "</table>\n",
       "</div>"
      ],
      "text/plain": [
       "   id terrestrial_date sol   ls month min_temp pressure\n",
       "1   2       2012-08-16  10  155     6    -75.0    739.0\n",
       "2  13       2012-08-17  11  156     6    -76.0    740.0\n",
       "3  24       2012-08-18  12  156     6    -76.0    741.0\n",
       "4  35       2012-08-19  13  157     6    -74.0    732.0\n",
       "5  46       2012-08-20  14  157     6    -74.0    740.0"
      ]
     },
     "execution_count": 8,
     "metadata": {},
     "output_type": "execute_result"
    }
   ],
   "source": [
    "# Remove the first row from the DataFrame\n",
    "new_df = df.iloc[1:]\n",
    "\n",
    "# Confirm DataFrame was created successfully\n",
    "new_df.head()"
   ]
  },
  {
   "cell_type": "markdown",
   "id": "37e42074",
   "metadata": {},
   "source": [
    "### Step 4: Prepare Data for Analysis\n",
    "\n",
    "Examine the data types that are currently associated with each column. If necessary, cast (or convert) the data to the appropriate `datetime`, `int`, or `float` data types.\n",
    "\n",
    "  > **Hint** You can use the Pandas `astype` and `to_datetime` methods to accomplish this task."
   ]
  },
  {
   "cell_type": "code",
   "execution_count": 9,
   "id": "a68781af",
   "metadata": {},
   "outputs": [
    {
     "name": "stdout",
     "output_type": "stream",
     "text": [
      "id                  object\n",
      "terrestrial_date    object\n",
      "sol                 object\n",
      "ls                  object\n",
      "month               object\n",
      "min_temp            object\n",
      "pressure            object\n",
      "dtype: object\n"
     ]
    }
   ],
   "source": [
    "# Examine data type of each column\n",
    "print(new_df.dtypes)"
   ]
  },
  {
   "cell_type": "code",
   "execution_count": 10,
   "id": "c59e1876",
   "metadata": {},
   "outputs": [],
   "source": [
    "# Change data types for data analysis\n",
    "new_df['terrestrial_date'] = pd.to_datetime(df['terrestrial_date'])\n",
    "new_df['sol'] = new_df['sol'].astype(int)\n",
    "new_df['ls'] = new_df['ls'].astype(int)\n",
    "new_df['month'] = new_df['month'].astype(int)\n",
    "new_df['min_temp'] = new_df['min_temp'].astype(float)\n",
    "new_df['pressure'] = new_df['pressure'].astype(float)"
   ]
  },
  {
   "cell_type": "code",
   "execution_count": 11,
   "id": "ceccb6df",
   "metadata": {},
   "outputs": [
    {
     "name": "stdout",
     "output_type": "stream",
     "text": [
      "id                          object\n",
      "terrestrial_date    datetime64[ns]\n",
      "sol                          int32\n",
      "ls                           int32\n",
      "month                        int32\n",
      "min_temp                   float64\n",
      "pressure                   float64\n",
      "dtype: object\n"
     ]
    }
   ],
   "source": [
    "# Confirm type changes were successful by examining data types again\n",
    "print(new_df.dtypes)"
   ]
  },
  {
   "cell_type": "markdown",
   "id": "7619210e",
   "metadata": {},
   "source": [
    "### Step 5: Analyze the Data\n",
    "\n",
    "Analyze your dataset by using Pandas functions to answer the following questions:\n",
    "\n",
    "1. How many months exist on Mars?\n",
    "2. How many Martian (and not Earth) days worth of data exist in the scraped dataset?\n",
    "3. What are the coldest and the warmest months on Mars (at the location of Curiosity)? To answer this question:\n",
    "    * Find the average the minimum daily temperature for all of the months.\n",
    "    * Plot the results as a bar chart.\n",
    "4. Which months have the lowest and the highest atmospheric pressure on Mars? To answer this question:\n",
    "    * Find the average the daily atmospheric pressure of all the months.\n",
    "    * Plot the results as a bar chart.\n",
    "5. About how many terrestrial (Earth) days exist in a Martian year? To answer this question:\n",
    "    * Consider how many days elapse on Earth in the time that Mars circles the Sun once.\n",
    "    * Visually estimate the result by plotting the daily minimum temperature."
   ]
  },
  {
   "cell_type": "markdown",
   "id": "d876a5d3",
   "metadata": {},
   "source": [
    "#### 1.How many months exist on Mars?"
   ]
  },
  {
   "cell_type": "markdown",
   "id": "ed017941",
   "metadata": {},
   "source": [
    "The data on Mars indicate that there are 12 months in a year. "
   ]
  },
  {
   "cell_type": "code",
   "execution_count": 12,
   "id": "655afdcf",
   "metadata": {},
   "outputs": [
    {
     "data": {
      "text/plain": [
       "1     174\n",
       "2     178\n",
       "3     192\n",
       "4     194\n",
       "5     149\n",
       "6     147\n",
       "7     142\n",
       "8     141\n",
       "9     134\n",
       "10    112\n",
       "11    138\n",
       "12    166\n",
       "Name: month, dtype: int64"
      ]
     },
     "execution_count": 12,
     "metadata": {},
     "output_type": "execute_result"
    }
   ],
   "source": [
    "# 1. How many months are there on Mars?\n",
    "month_counts = new_df['month'].value_counts()\n",
    "sorted_month = month_counts.sort_index()\n",
    "sorted_month"
   ]
  },
  {
   "cell_type": "markdown",
   "id": "be14b27e",
   "metadata": {},
   "source": [
    "#### 2.How many Martian (and not Earth) days worth of data exist in the scraped dataset?"
   ]
  },
  {
   "cell_type": "markdown",
   "id": "d86777a5",
   "metadata": {},
   "source": [
    "Based on the scraped data, we found data for 1867 days"
   ]
  },
  {
   "cell_type": "code",
   "execution_count": 57,
   "id": "80239a05",
   "metadata": {},
   "outputs": [
    {
     "data": {
      "text/plain": [
       "1867"
      ]
     },
     "execution_count": 57,
     "metadata": {},
     "output_type": "execute_result"
    }
   ],
   "source": [
    "# 2. How many Martian days' worth of data are there?\n",
    "mars_days = new_df['id'].value_counts()\n",
    "len(mars_days)"
   ]
  },
  {
   "cell_type": "markdown",
   "id": "a1cc4884",
   "metadata": {},
   "source": [
    "#### 3.What are the coldest and the warmest months on Mars (at the location of Curiosity)? "
   ]
  },
  {
   "cell_type": "code",
   "execution_count": 14,
   "id": "ec682bf0",
   "metadata": {},
   "outputs": [
    {
     "data": {
      "text/plain": [
       "month\n",
       "1    -77.160920\n",
       "2    -79.932584\n",
       "3    -83.307292\n",
       "4    -82.747423\n",
       "5    -79.308725\n",
       "6    -75.299320\n",
       "7    -72.281690\n",
       "8    -68.382979\n",
       "9    -69.171642\n",
       "10   -71.982143\n",
       "11   -71.985507\n",
       "12   -74.451807\n",
       "Name: min_temp, dtype: float64"
      ]
     },
     "execution_count": 14,
     "metadata": {},
     "output_type": "execute_result"
    }
   ],
   "source": [
    "# 3. What is the average low temperature by month?\n",
    "low_temp = new_df.groupby(['month']).mean()['min_temp']\n",
    "low_temp"
   ]
  },
  {
   "cell_type": "code",
   "execution_count": 19,
   "id": "363fe039",
   "metadata": {},
   "outputs": [
    {
     "data": {
      "image/png": "[encoded data removed]",
      "text/plain": [
       "<Figure size 640x480 with 1 Axes>"
      ]
     },
     "metadata": {},
     "output_type": "display_data"
    }
   ],
   "source": [
    "# Plot the average temperature by month\n",
    "plt.bar(low_temp.index, low_temp.values, width=0.5, color= \"darkred\", alpha=0.6)\n",
    "plt.title(\"Average Temperature by Month\")\n",
    "plt.xlabel(\"Months\")\n",
    "plt.ylabel(\"Temperature (°C)\")\n",
    "plt.xticks(low_temp.index)\n",
    "plt.rcParams[\"font.family\"] = \"MS Gothic\"\n",
    "plt.show()"
   ]
  },
  {
   "cell_type": "markdown",
   "id": "a0dc531b",
   "metadata": {},
   "source": [
    "As shown in the following graph, in the Martian year, the third month is the coldest, with an average temperature of -83.307 °C, and the hottest month is month 8, with an average temperature of -69.172 °C."
   ]
  },
  {
   "cell_type": "code",
   "execution_count": 58,
   "id": "99a187b3",
   "metadata": {},
   "outputs": [
    {
     "data": {
      "text/plain": [
       "<function matplotlib.pyplot.show(close=None, block=None)>"
      ]
     },
     "execution_count": 58,
     "metadata": {},
     "output_type": "execute_result"
    },
    {
     "data": {
      "image/png": "[encoded data removed]",
      "text/plain": [
       "<Figure size 640x480 with 1 Axes>"
      ]
     },
     "metadata": {},
     "output_type": "display_data"
    }
   ],
   "source": [
    "# Identify the coldest and hottest months in Curiosity's location\n",
    "low_temp.sort_values().plot(kind='bar', color = 'cadetblue', alpha=0.8)\n",
    "plt.title(\"Coldest and Hottest months in Curiosity's location\")\n",
    "plt.ylabel(\"Temperature (°C)\")\n",
    "plt.xlabel(\"Months\")\n",
    "plt.show"
   ]
  },
  {
   "cell_type": "markdown",
   "id": "8b0e149e",
   "metadata": {},
   "source": [
    "#### 4.Which months have the lowest and the highest atmospheric pressure on Mars? "
   ]
  },
  {
   "cell_type": "code",
   "execution_count": 35,
   "id": "f4bad4e1",
   "metadata": {},
   "outputs": [
    {
     "data": {
      "text/plain": [
       "month\n",
       "1     862.488506\n",
       "2     889.455056\n",
       "3     877.322917\n",
       "4     806.329897\n",
       "5     748.557047\n",
       "6     745.054422\n",
       "7     795.105634\n",
       "8     873.829787\n",
       "9     913.305970\n",
       "10    887.312500\n",
       "11    857.014493\n",
       "12    842.156627\n",
       "Name: pressure, dtype: float64"
      ]
     },
     "execution_count": 35,
     "metadata": {},
     "output_type": "execute_result"
    }
   ],
   "source": [
    "# 4. Average pressure by Martian month\n",
    "pressure = new_df.groupby(['month']).mean()['pressure']\n",
    "pressure"
   ]
  },
  {
   "cell_type": "markdown",
   "id": "79cbba00",
   "metadata": {},
   "source": [
    "In the following graph, Mars's lowest atmospheric pressure is in the sixth month, while its highest atmospheric pressure is in the ninth month."
   ]
  },
  {
   "cell_type": "code",
   "execution_count": 36,
   "id": "e0222930",
   "metadata": {},
   "outputs": [
    {
     "data": {
      "image/png": "[encoded data removed]",
      "text/plain": [
       "<Figure size 640x480 with 1 Axes>"
      ]
     },
     "metadata": {},
     "output_type": "display_data"
    }
   ],
   "source": [
    "# Plot the average pressure by month\n",
    "# plt.bar(pressure_sorted.index, pressure_sorted.values, width=0.5, color= \"lightblue\", alpha=0.8)\n",
    "pressure.sort_values().plot(kind='bar', color='lightblue')\n",
    "plt.title(\"Average Pressure by Month\")\n",
    "plt.xlabel(\"Months\")\n",
    "plt.ylabel(\"Atmospheric Pressure\")\n",
    "plt.rcParams[\"font.family\"] = \"MS Gothic\"\n",
    "plt.show()"
   ]
  },
  {
   "cell_type": "markdown",
   "id": "7e2c47c8",
   "metadata": {},
   "source": [
    "#### 5. About how many terrestrial (Earth) days exist in a Martian year?"
   ]
  },
  {
   "cell_type": "markdown",
   "id": "28d33f0a",
   "metadata": {},
   "source": [
    "- The first peak was approximately at $125$ terrestrial days"
   ]
  },
  {
   "cell_type": "markdown",
   "id": "99f36a4f",
   "metadata": {},
   "source": [
    "- The second peak was approximately at $800$ terrestrial days"
   ]
  },
  {
   "cell_type": "markdown",
   "id": "e44cdba2",
   "metadata": {},
   "source": [
    "- The third peak was approximately at $1475$ terrestrial days"
   ]
  },
  {
   "cell_type": "markdown",
   "id": "08236923",
   "metadata": {},
   "source": [
    "Therefore, \n",
    "\n",
    "$800-125 = 675$\n",
    "\n",
    "$1475-800 = 675$"
   ]
  },
  {
   "cell_type": "markdown",
   "id": "d1e598e4",
   "metadata": {},
   "source": [
    "According to the previous calculation, there are approximately 675 days that elapse on Earth between the hottest month of a Martian year and the next hottest month. "
   ]
  },
  {
   "cell_type": "code",
   "execution_count": 52,
   "id": "b87eb24f",
   "metadata": {},
   "outputs": [
    {
     "data": {
      "image/png": "[encoded data removed]",
      "text/plain": [
       "<Figure size 640x480 with 1 Axes>"
      ]
     },
     "metadata": {},
     "output_type": "display_data"
    }
   ],
   "source": [
    "# 5. How many terrestrial (earth) days are there in a Martian year?\n",
    "plt.plot(new_df['sol'], new_df['min_temp'])\n",
    "plt.xlabel('Number of Terrestrial Days')\n",
    "plt.ylabel('Minimum Temperature (°C)')\n",
    "plt.title('Minimum Temperature on Mars')\n",
    "plt.grid(True)\n",
    "plt.show()"
   ]
  },
  {
   "cell_type": "markdown",
   "id": "0b65ea8a",
   "metadata": {},
   "source": [
    "Information confirmed through NASA confirms that each year on Mars takes 687 days on Earth. \n",
    "\n",
    "##### Reference\n",
    "NASA, JPL and Caltech (no date) Mars in A minute: How long is a year on Mars? – NASA mars exploration, NASA. Available at: https://mars.nasa.gov/resources/21392/mars-in-a-minute-how-long-is-a-year-on-mars/#:~:text=The%20Earth%20zips%20around%20the,year%20means%20longer%20seasons%20too. (Accessed: 31 May 2023). "
   ]
  },
  {
   "cell_type": "markdown",
   "id": "fa39cb6b",
   "metadata": {},
   "source": [
    "### Step 6: Save the Data\n",
    "Export the DataFrame to a CSV file."
   ]
  },
  {
   "cell_type": "code",
   "execution_count": 59,
   "id": "e4a29ec6",
   "metadata": {},
   "outputs": [],
   "source": [
    "# Write the data to a CSV\n",
    "new_df.to_csv('output_data/mars_data.csv', index=False)"
   ]
  },
  {
   "cell_type": "code",
   "execution_count": 61,
   "id": "edbc12fb",
   "metadata": {},
   "outputs": [],
   "source": [
    "browser.quit()"
   ]
  },
  {
   "cell_type": "code",
   "execution_count": null,
   "id": "82a9b425",
   "metadata": {},
   "outputs": [],
   "source": []
  }
 ],
 "metadata": {
  "kernelspec": {
   "display_name": "Python 3 (ipykernel)",
   "language": "python",
   "name": "python3"
  },
  "language_info": {
   "codemirror_mode": {
    "name": "ipython",
    "version": 3
   },
   "file_extension": ".py",
   "mimetype": "text/x-python",
   "name": "python",
   "nbconvert_exporter": "python",
   "pygments_lexer": "ipython3",
   "version": "3.10.10"
  }
 },
 "nbformat": 4,
 "nbformat_minor": 5
}
